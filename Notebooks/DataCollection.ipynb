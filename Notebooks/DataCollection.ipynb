{
 "cells": [
  {
   "cell_type": "code",
   "execution_count": 12,
   "id": "463b39e9-76bc-4b55-9d33-3456fb6bb89f",
   "metadata": {},
   "outputs": [],
   "source": [
    "import cv2 # opencv\n",
    "import os\n",
    "import time\n",
    "import uuid"
   ]
  },
  {
   "cell_type": "code",
   "execution_count": 13,
   "id": "36788482-9638-4e16-9626-cb4ffefd3edb",
   "metadata": {},
   "outputs": [],
   "source": [
    "IMAGE_PATH = '/Users/titasvaidila/Documents/Sign Language Detection Project/RealTimeObjectDetection/Tensorflow/workspace/images/collectedimages'"
   ]
  },
  {
   "cell_type": "code",
   "execution_count": 14,
   "id": "9734dc13-2912-4de1-af5c-10f7f0cb756d",
   "metadata": {},
   "outputs": [],
   "source": [
    "labels = ['hello', 'thankyou', 'yes', 'no', 'iloveyou']\n",
    "number_imgs = 15"
   ]
  },
  {
   "cell_type": "code",
   "execution_count": 15,
   "id": "4c4a4e1d-124d-49f5-aae5-be6951b60816",
   "metadata": {},
   "outputs": [],
   "source": [
    "def find_working_camera(max_index=5):\n",
    "    for i in range(max_index):\n",
    "        cap = cv2.VideoCapture(i)\n",
    "        if cap.isOpened():\n",
    "            print(f\"Using camera {i}\")\n",
    "            return cap\n",
    "        cap.release()\n",
    "    raise Exception(\"No working camera found!\")"
   ]
  },
  {
   "cell_type": "code",
   "execution_count": 16,
   "id": "d271d40c-7f02-47ef-ad3b-8c06c53f2698",
   "metadata": {},
   "outputs": [
    {
     "name": "stdout",
     "output_type": "stream",
     "text": [
      "Using camera 0\n",
      "Collecting images for hello\n",
      "Captured image 1/15 for label hello\n",
      "Captured image 2/15 for label hello\n",
      "Captured image 3/15 for label hello\n",
      "Captured image 4/15 for label hello\n",
      "Captured image 5/15 for label hello\n",
      "Captured image 6/15 for label hello\n",
      "Captured image 7/15 for label hello\n",
      "Captured image 8/15 for label hello\n",
      "Captured image 9/15 for label hello\n",
      "Captured image 10/15 for label hello\n",
      "Captured image 11/15 for label hello\n",
      "Captured image 12/15 for label hello\n",
      "Captured image 13/15 for label hello\n",
      "Captured image 14/15 for label hello\n",
      "Captured image 15/15 for label hello\n",
      "Collecting images for thankyou\n",
      "Captured image 1/15 for label thankyou\n",
      "Captured image 2/15 for label thankyou\n",
      "Captured image 3/15 for label thankyou\n",
      "Captured image 4/15 for label thankyou\n",
      "Captured image 5/15 for label thankyou\n",
      "Captured image 6/15 for label thankyou\n",
      "Captured image 7/15 for label thankyou\n",
      "Captured image 8/15 for label thankyou\n",
      "Captured image 9/15 for label thankyou\n",
      "Captured image 10/15 for label thankyou\n",
      "Captured image 11/15 for label thankyou\n",
      "Captured image 12/15 for label thankyou\n",
      "Captured image 13/15 for label thankyou\n",
      "Captured image 14/15 for label thankyou\n",
      "Captured image 15/15 for label thankyou\n",
      "Collecting images for yes\n",
      "Captured image 1/15 for label yes\n",
      "Captured image 2/15 for label yes\n",
      "Captured image 3/15 for label yes\n",
      "Captured image 4/15 for label yes\n",
      "Captured image 5/15 for label yes\n",
      "Captured image 6/15 for label yes\n",
      "Captured image 7/15 for label yes\n",
      "Captured image 8/15 for label yes\n",
      "Captured image 9/15 for label yes\n",
      "Captured image 10/15 for label yes\n",
      "Captured image 11/15 for label yes\n",
      "Captured image 12/15 for label yes\n",
      "Captured image 13/15 for label yes\n",
      "Captured image 14/15 for label yes\n",
      "Captured image 15/15 for label yes\n",
      "Collecting images for no\n",
      "Captured image 1/15 for label no\n",
      "Captured image 2/15 for label no\n",
      "Captured image 3/15 for label no\n",
      "Captured image 4/15 for label no\n",
      "Captured image 5/15 for label no\n",
      "Captured image 6/15 for label no\n",
      "Captured image 7/15 for label no\n",
      "Captured image 8/15 for label no\n",
      "Captured image 9/15 for label no\n",
      "Captured image 10/15 for label no\n",
      "Captured image 11/15 for label no\n",
      "Captured image 12/15 for label no\n",
      "Captured image 13/15 for label no\n",
      "Captured image 14/15 for label no\n",
      "Captured image 15/15 for label no\n",
      "Collecting images for iloveyou\n",
      "Captured image 1/15 for label iloveyou\n",
      "Captured image 2/15 for label iloveyou\n",
      "Captured image 3/15 for label iloveyou\n",
      "Captured image 4/15 for label iloveyou\n",
      "Captured image 5/15 for label iloveyou\n",
      "Captured image 6/15 for label iloveyou\n",
      "Captured image 7/15 for label iloveyou\n",
      "Captured image 8/15 for label iloveyou\n",
      "Captured image 9/15 for label iloveyou\n",
      "Captured image 10/15 for label iloveyou\n",
      "Captured image 11/15 for label iloveyou\n",
      "Captured image 12/15 for label iloveyou\n",
      "Captured image 13/15 for label iloveyou\n",
      "Captured image 14/15 for label iloveyou\n",
      "Captured image 15/15 for label iloveyou\n"
     ]
    }
   ],
   "source": [
    "cap = find_working_camera()\n",
    "\n",
    "for label in labels:\n",
    "    label_path = os.path.join(IMAGE_PATH, label)\n",
    "    os.makedirs(label_path, exist_ok=True)\n",
    "    print('Collecting images for {}'.format(label))\n",
    "    time.sleep(3)\n",
    "    for img_num in range(number_imgs):\n",
    "        ret, frame = cap.read()\n",
    "        if not ret:\n",
    "            print(\"Failed to grab frame, retrying...\")\n",
    "            time.sleep(1)\n",
    "            continue\n",
    "        frame = cv2.resize(frame, (224, 224))\n",
    "        image_name = os.path.join(label_path, f\"{label}.{str(uuid.uuid1())}.jpg\")\n",
    "        cv2.imwrite(image_name, frame)\n",
    "        if img_num % 3 == 0:\n",
    "            cv2.imshow('frame', frame)\n",
    "        print(f\"Captured image {img_num+1}/{number_imgs} for label {label}\")\n",
    "        \n",
    "        time.sleep(1)\n",
    "\n",
    "        if cv2.waitKey(1) & 0xFF == ord('q'):\n",
    "            break\n",
    "\n",
    "cap.release()\n",
    "cv2.destroyAllWindows()"
   ]
  },
  {
   "cell_type": "code",
   "execution_count": null,
   "id": "3949b79e-27cb-4f5e-9d10-1a98ff471360",
   "metadata": {},
   "outputs": [],
   "source": []
  }
 ],
 "metadata": {
  "kernelspec": {
   "display_name": "Python (tfod)",
   "language": "python",
   "name": "tfod"
  },
  "language_info": {
   "codemirror_mode": {
    "name": "ipython",
    "version": 3
   },
   "file_extension": ".py",
   "mimetype": "text/x-python",
   "name": "python",
   "nbconvert_exporter": "python",
   "pygments_lexer": "ipython3",
   "version": "3.8.20"
  }
 },
 "nbformat": 4,
 "nbformat_minor": 5
}
